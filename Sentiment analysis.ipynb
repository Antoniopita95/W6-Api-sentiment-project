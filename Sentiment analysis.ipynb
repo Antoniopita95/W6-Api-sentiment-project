{
 "cells": [
  {
   "cell_type": "markdown",
   "metadata": {},
   "source": [
    "## Importamos las librerías "
   ]
  },
  {
   "cell_type": "code",
   "execution_count": 3,
   "metadata": {},
   "outputs": [],
   "source": [
    "import pandas as pd\n",
    "import nltk\n",
    "from nltk.sentiment.vader import SentimentIntensityAnalyzer\n",
    "from nltk.corpus import stopwords\n",
    "from textblob import TextBlob\n",
    "import seaborn as sns\n",
    "import matplotlib as plt\n",
    "import matplotlib.pyplot as plt\n",
    "from pymongo import MongoClient"
   ]
  },
  {
   "cell_type": "markdown",
   "metadata": {},
   "source": [
    "### Cargamos el nuevo .csv"
   ]
  },
  {
   "cell_type": "code",
   "execution_count": 4,
   "metadata": {},
   "outputs": [],
   "source": [
    "df = pd.read_csv(\"data/hp_quotes.csv\",encoding = \"ISO-8859-1\", dtype=str\n",
    ")"
   ]
  },
  {
   "cell_type": "code",
   "execution_count": 5,
   "metadata": {
    "scrolled": false
   },
   "outputs": [
    {
     "data": {
      "text/html": [
       "<div>\n",
       "<style scoped>\n",
       "    .dataframe tbody tr th:only-of-type {\n",
       "        vertical-align: middle;\n",
       "    }\n",
       "\n",
       "    .dataframe tbody tr th {\n",
       "        vertical-align: top;\n",
       "    }\n",
       "\n",
       "    .dataframe thead th {\n",
       "        text-align: right;\n",
       "    }\n",
       "</style>\n",
       "<table border=\"1\" class=\"dataframe\">\n",
       "  <thead>\n",
       "    <tr style=\"text-align: right;\">\n",
       "      <th></th>\n",
       "      <th>character_name</th>\n",
       "      <th>dialogue</th>\n",
       "    </tr>\n",
       "  </thead>\n",
       "  <tbody>\n",
       "    <tr>\n",
       "      <th>0</th>\n",
       "      <td>Albus Dumbledore</td>\n",
       "      <td>I should have known that you would be here, Pr...</td>\n",
       "    </tr>\n",
       "    <tr>\n",
       "      <th>1</th>\n",
       "      <td>Minerva McGonagall</td>\n",
       "      <td>Good evening, Professor Dumbledore. Are the ru...</td>\n",
       "    </tr>\n",
       "    <tr>\n",
       "      <th>2</th>\n",
       "      <td>Albus Dumbledore</td>\n",
       "      <td>I'm afraid so, Professor. The good, and the bad.</td>\n",
       "    </tr>\n",
       "    <tr>\n",
       "      <th>3</th>\n",
       "      <td>Minerva McGonagall</td>\n",
       "      <td>And the boy?</td>\n",
       "    </tr>\n",
       "    <tr>\n",
       "      <th>4</th>\n",
       "      <td>Albus Dumbledore</td>\n",
       "      <td>Hagrid is bringing him.</td>\n",
       "    </tr>\n",
       "  </tbody>\n",
       "</table>\n",
       "</div>"
      ],
      "text/plain": [
       "       character_name                                           dialogue\n",
       "0    Albus Dumbledore  I should have known that you would be here, Pr...\n",
       "1  Minerva McGonagall  Good evening, Professor Dumbledore. Are the ru...\n",
       "2    Albus Dumbledore   I'm afraid so, Professor. The good, and the bad.\n",
       "3  Minerva McGonagall                                       And the boy?\n",
       "4    Albus Dumbledore                            Hagrid is bringing him."
      ]
     },
     "execution_count": 5,
     "metadata": {},
     "output_type": "execute_result"
    }
   ],
   "source": [
    "df.drop(\"Unnamed: 0\", axis=\"columns\", inplace=True)\n",
    "df.head()"
   ]
  },
  {
   "cell_type": "markdown",
   "metadata": {},
   "source": [
    "## Sentiment analysis"
   ]
  },
  {
   "cell_type": "markdown",
   "metadata": {},
   "source": [
    " "
   ]
  },
  {
   "cell_type": "code",
   "execution_count": 6,
   "metadata": {},
   "outputs": [
    {
     "name": "stderr",
     "output_type": "stream",
     "text": [
      "[nltk_data] Downloading package vader_lexicon to\n",
      "[nltk_data]     C:\\Users\\anton\\AppData\\Roaming\\nltk_data...\n",
      "[nltk_data]   Package vader_lexicon is already up-to-date!\n"
     ]
    },
    {
     "data": {
      "text/plain": [
       "True"
      ]
     },
     "execution_count": 6,
     "metadata": {},
     "output_type": "execute_result"
    }
   ],
   "source": [
    "nltk.downloader.download('vader_lexicon')"
   ]
  },
  {
   "cell_type": "code",
   "execution_count": 7,
   "metadata": {},
   "outputs": [],
   "source": [
    "sia = SentimentIntensityAnalyzer()"
   ]
  },
  {
   "cell_type": "code",
   "execution_count": 8,
   "metadata": {},
   "outputs": [],
   "source": [
    "def sentimentAnalysis(dialog):\n",
    "    sia = SentimentIntensityAnalyzer()\n",
    "    polarity = sia.polarity_scores(dialog)\n",
    "    pol = polarity['compound']\n",
    "    return pol"
   ]
  },
  {
   "cell_type": "code",
   "execution_count": 9,
   "metadata": {},
   "outputs": [
    {
     "data": {
      "text/html": [
       "<div>\n",
       "<style scoped>\n",
       "    .dataframe tbody tr th:only-of-type {\n",
       "        vertical-align: middle;\n",
       "    }\n",
       "\n",
       "    .dataframe tbody tr th {\n",
       "        vertical-align: top;\n",
       "    }\n",
       "\n",
       "    .dataframe thead th {\n",
       "        text-align: right;\n",
       "    }\n",
       "</style>\n",
       "<table border=\"1\" class=\"dataframe\">\n",
       "  <thead>\n",
       "    <tr style=\"text-align: right;\">\n",
       "      <th></th>\n",
       "      <th>character_name</th>\n",
       "      <th>dialogue</th>\n",
       "      <th>sentiment_analysis</th>\n",
       "    </tr>\n",
       "  </thead>\n",
       "  <tbody>\n",
       "    <tr>\n",
       "      <th>0</th>\n",
       "      <td>Albus Dumbledore</td>\n",
       "      <td>I should have known that you would be here, Pr...</td>\n",
       "      <td>0.0000</td>\n",
       "    </tr>\n",
       "    <tr>\n",
       "      <th>1</th>\n",
       "      <td>Minerva McGonagall</td>\n",
       "      <td>Good evening, Professor Dumbledore. Are the ru...</td>\n",
       "      <td>0.6908</td>\n",
       "    </tr>\n",
       "    <tr>\n",
       "      <th>2</th>\n",
       "      <td>Albus Dumbledore</td>\n",
       "      <td>I'm afraid so, Professor. The good, and the bad.</td>\n",
       "      <td>-0.0865</td>\n",
       "    </tr>\n",
       "    <tr>\n",
       "      <th>3</th>\n",
       "      <td>Minerva McGonagall</td>\n",
       "      <td>And the boy?</td>\n",
       "      <td>0.0000</td>\n",
       "    </tr>\n",
       "    <tr>\n",
       "      <th>4</th>\n",
       "      <td>Albus Dumbledore</td>\n",
       "      <td>Hagrid is bringing him.</td>\n",
       "      <td>0.0000</td>\n",
       "    </tr>\n",
       "    <tr>\n",
       "      <th>5</th>\n",
       "      <td>Minerva McGonagall</td>\n",
       "      <td>Do you think it wise to trust Hagrid with some...</td>\n",
       "      <td>0.8020</td>\n",
       "    </tr>\n",
       "    <tr>\n",
       "      <th>6</th>\n",
       "      <td>Albus Dumbledore</td>\n",
       "      <td>Ah, Professor, I would trust Hagrid with my life.</td>\n",
       "      <td>0.5106</td>\n",
       "    </tr>\n",
       "    <tr>\n",
       "      <th>7</th>\n",
       "      <td>Rubeus Hagrid</td>\n",
       "      <td>Professor Dumbledore, Sir. Professor McGonagall.</td>\n",
       "      <td>0.0000</td>\n",
       "    </tr>\n",
       "    <tr>\n",
       "      <th>8</th>\n",
       "      <td>Albus Dumbledore</td>\n",
       "      <td>No problems, I trust, Hagrid?</td>\n",
       "      <td>-0.1531</td>\n",
       "    </tr>\n",
       "    <tr>\n",
       "      <th>9</th>\n",
       "      <td>Rubeus Hagrid</td>\n",
       "      <td>No, Sir. Little tyke fell asleep just as we we...</td>\n",
       "      <td>-0.2960</td>\n",
       "    </tr>\n",
       "  </tbody>\n",
       "</table>\n",
       "</div>"
      ],
      "text/plain": [
       "       character_name                                           dialogue  \\\n",
       "0    Albus Dumbledore  I should have known that you would be here, Pr...   \n",
       "1  Minerva McGonagall  Good evening, Professor Dumbledore. Are the ru...   \n",
       "2    Albus Dumbledore   I'm afraid so, Professor. The good, and the bad.   \n",
       "3  Minerva McGonagall                                       And the boy?   \n",
       "4    Albus Dumbledore                            Hagrid is bringing him.   \n",
       "5  Minerva McGonagall  Do you think it wise to trust Hagrid with some...   \n",
       "6    Albus Dumbledore  Ah, Professor, I would trust Hagrid with my life.   \n",
       "7       Rubeus Hagrid   Professor Dumbledore, Sir. Professor McGonagall.   \n",
       "8    Albus Dumbledore                      No problems, I trust, Hagrid?   \n",
       "9       Rubeus Hagrid  No, Sir. Little tyke fell asleep just as we we...   \n",
       "\n",
       "   sentiment_analysis  \n",
       "0              0.0000  \n",
       "1              0.6908  \n",
       "2             -0.0865  \n",
       "3              0.0000  \n",
       "4              0.0000  \n",
       "5              0.8020  \n",
       "6              0.5106  \n",
       "7              0.0000  \n",
       "8             -0.1531  \n",
       "9             -0.2960  "
      ]
     },
     "execution_count": 9,
     "metadata": {},
     "output_type": "execute_result"
    }
   ],
   "source": [
    "df['sentiment_analysis'] = df.dialogue.apply(sentimentAnalysis)\n",
    "df.head(10)"
   ]
  },
  {
   "cell_type": "code",
   "execution_count": 13,
   "metadata": {},
   "outputs": [
    {
     "data": {
      "text/plain": [
       "character_name\n",
       "Man                  -0.658000\n",
       "Voldemort            -0.234213\n",
       "Firenze              -0.151320\n",
       "George Weasley       -0.131050\n",
       "Neville Longbottom   -0.065636\n",
       "Seamus Finnigan      -0.051280\n",
       "Argus Filch          -0.039550\n",
       "Dudley Dursley       -0.038871\n",
       "Vernon Dursley       -0.030370\n",
       "Harry Potter         -0.003519\n",
       "The Fat Lady          0.000000\n",
       "Marcus Flint          0.000000\n",
       "Doris Crockford       0.000000\n",
       "Bloody Baron          0.000000\n",
       "Oliver Wood           0.014775\n",
       "Name: sentiment_analysis, dtype: float64"
      ]
     },
     "execution_count": 13,
     "metadata": {},
     "output_type": "execute_result"
    }
   ],
   "source": [
    "Sentiment_todos = df.groupby(['character_name'])['sentiment_analysis'].mean().sort_values()\n",
    "Sentiment_todos.head(15)"
   ]
  },
  {
   "cell_type": "code",
   "execution_count": 18,
   "metadata": {},
   "outputs": [
    {
     "data": {
      "text/plain": [
       "<AxesSubplot:xlabel='character_name'>"
      ]
     },
     "execution_count": 18,
     "metadata": {},
     "output_type": "execute_result"
    },
    {
     "data": {
      "image/png": "[encoded data removed]",
      "text/plain": [
       "<Figure size 1080x360 with 1 Axes>"
      ]
     },
     "metadata": {
      "needs_background": "light"
     },
     "output_type": "display_data"
    }
   ],
   "source": [
    "Sentiment_todos.plot(kind=\"bar\", figsize = (15,5))"
   ]
  },
  {
   "cell_type": "code",
   "execution_count": null,
   "metadata": {},
   "outputs": [],
   "source": []
  }
 ],
 "metadata": {
  "kernelspec": {
   "display_name": "Python 3",
   "language": "python",
   "name": "python3"
  },
  "language_info": {
   "codemirror_mode": {
    "name": "ipython",
    "version": 3
   },
   "file_extension": ".py",
   "mimetype": "text/x-python",
   "name": "python",
   "nbconvert_exporter": "python",
   "pygments_lexer": "ipython3",
   "version": "3.8.5"
  }
 },
 "nbformat": 4,
 "nbformat_minor": 4
}
