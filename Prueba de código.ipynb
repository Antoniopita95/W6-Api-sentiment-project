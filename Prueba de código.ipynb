{
 "cells": [
  {
   "cell_type": "code",
   "execution_count": 2,
   "metadata": {},
   "outputs": [],
   "source": [
    " from pymongo import MongoClient\n",
    "client = MongoClient(\"localhost:27017\")\n",
    "db = client.get_database(\"lotr\")\n",
    "collection = db.get_collection(\"frases\")"
   ]
  },
  {
   "cell_type": "code",
   "execution_count": 4,
   "metadata": {},
   "outputs": [
    {
     "data": {
      "text/plain": [
       "[{'char': 'DEAGOL',\n",
       "  'dialog': 'Oh Smeagol Ive got one! , Ive got a fish Smeagol, Smeagol!    ',\n",
       "  'movie': 'The Return of the King '},\n",
       " {'char': 'DEAGOL', 'dialog': 'Arrghh! ', 'movie': 'The Return of the King '},\n",
       " {'char': 'DEAGOL',\n",
       "  'dialog': 'Why? Â\\xa0',\n",
       "  'movie': 'The Return of the King '}]"
      ]
     },
     "execution_count": 4,
     "metadata": {},
     "output_type": "execute_result"
    }
   ],
   "source": [
    "list(collection.find({\"char\": \"DEAGOL\"}, {\"_id\": 0 , \"index\": 0}))"
   ]
  },
  {
   "cell_type": "code",
   "execution_count": 30,
   "metadata": {},
   "outputs": [
    {
     "data": {
      "text/plain": [
       "[{'char': 'DEAGOL',\n",
       "  'dialog': 'Oh Smeagol Ive got one! , Ive got a fish Smeagol, Smeagol!    ',\n",
       "  'movie': 'The Return of the King '},\n",
       " {'char': 'DEAGOL', 'dialog': 'Arrghh! ', 'movie': 'The Return of the King '},\n",
       " {'char': 'DEAGOL',\n",
       "  'dialog': 'Why? Â\\xa0',\n",
       "  'movie': 'The Return of the King '}]"
      ]
     },
     "execution_count": 30,
     "metadata": {},
     "output_type": "execute_result"
    }
   ],
   "source": [
    "#Function that returns all the quotes of a certain character\n",
    "def dialog(DEAGOL):\n",
    "    proj = {\"_id\": 0, \"index\": 0}\n",
    "    query = {\"char\": \"DEAGOL\"}\n",
    "    quotes = list(collection.find(query,proj))\n",
    "    return quotes\n",
    "dialog(\"DEAGOL\")"
   ]
  },
  {
   "cell_type": "code",
   "execution_count": 35,
   "metadata": {},
   "outputs": [
    {
     "data": {
      "text/plain": [
       "[{'char': 'DEAGOL',\n",
       "  'dialog': 'Oh Smeagol Ive got one! , Ive got a fish Smeagol, Smeagol!    ',\n",
       "  'movie': 'The Return of the King '},\n",
       " {'char': 'DEAGOL', 'dialog': 'Arrghh! ', 'movie': 'The Return of the King '},\n",
       " {'char': 'DEAGOL',\n",
       "  'dialog': 'Why? Â\\xa0',\n",
       "  'movie': 'The Return of the King '}]"
      ]
     },
     "execution_count": 35,
     "metadata": {},
     "output_type": "execute_result"
    }
   ],
   "source": [
    "def dialog(char):\n",
    "    proj = {\"_id\": 0, \"index\": 0}\n",
    "    query = {\"char\": f\"{char}\"}\n",
    "    quotes = list(collection.find(query,proj))\n",
    "    return quotes\n",
    "\n",
    "dialog(\"DEAGOL\")"
   ]
  },
  {
   "cell_type": "code",
   "execution_count": 43,
   "metadata": {},
   "outputs": [
    {
     "data": {
      "text/plain": [
       "[]"
      ]
     },
     "execution_count": 43,
     "metadata": {},
     "output_type": "execute_result"
    }
   ],
   "source": [
    "def quotes_movie(movie):\n",
    "    \"\"\"\n",
    "    Function that returns all the quotes of one of the three movies\n",
    "    \"\"\"\n",
    "    proj = {\"_id\": 0, \"index\": 0}\n",
    "    query = {\"movie\": f\"{movie}\"}\n",
    "    movies = list(collection.find(query,proj))\n",
    "    return movies\n",
    "quotes_movie(\"The Return of the King\")"
   ]
  },
  {
   "cell_type": "code",
   "execution_count": null,
   "metadata": {},
   "outputs": [],
   "source": []
  },
  {
   "cell_type": "code",
   "execution_count": null,
   "metadata": {},
   "outputs": [],
   "source": []
  }
 ],
 "metadata": {
  "kernelspec": {
   "display_name": "Python 3",
   "language": "python",
   "name": "python3"
  },
  "language_info": {
   "codemirror_mode": {
    "name": "ipython",
    "version": 3
   },
   "file_extension": ".py",
   "mimetype": "text/x-python",
   "name": "python",
   "nbconvert_exporter": "python",
   "pygments_lexer": "ipython3",
   "version": "3.8.5"
  }
 },
 "nbformat": 4,
 "nbformat_minor": 4
}
